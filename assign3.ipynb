{
 "cells": [
  {
   "cell_type": "code",
   "execution_count": 1,
   "metadata": {
    "executionInfo": {
     "elapsed": 483,
     "status": "ok",
     "timestamp": 1679940692105,
     "user": {
      "displayName": "Yujia Zhang",
      "userId": "18184944040601022938"
     },
     "user_tz": 360
    },
    "id": "fUiy76hs4S0G"
   },
   "outputs": [],
   "source": [
    "import pandas as pd\n",
    "import numpy as np\n",
    "import seaborn as sns\n",
    "from sklearn.preprocessing import MinMaxScaler\n",
    "\n",
    "import matplotlib.pyplot as plt\n",
    "from IPython import display\n",
    "import matplotlib.cm as cm\n",
    "import pylab as pl"
   ]
  },
  {
   "cell_type": "markdown",
   "metadata": {
    "id": "H_2yGeApEqLm"
   },
   "source": [
    "# Data Exploration"
   ]
  },
  {
   "cell_type": "markdown",
   "metadata": {
    "id": "JBab-08yPCeq"
   },
   "source": [
    "this assignment is to clustering the values of the live saling data by applying unsupervised models\n",
    "*   remove redundant information\n",
    "*   dealing with categorical data\n",
    "*   dealing with missing data"
   ]
  },
  {
   "cell_type": "code",
   "execution_count": 2,
   "metadata": {
    "colab": {
     "base_uri": "https://localhost:8080/"
    },
    "executionInfo": {
     "elapsed": 36,
     "status": "ok",
     "timestamp": 1679940692117,
     "user": {
      "displayName": "Yujia Zhang",
      "userId": "18184944040601022938"
     },
     "user_tz": 360
    },
    "id": "hMTw9h62GPNI",
    "outputId": "c91222c7-717e-418a-faef-05c241faced4"
   },
   "outputs": [
    {
     "name": "stdout",
     "output_type": "stream",
     "text": [
      "<class 'pandas.core.frame.DataFrame'>\n",
      "RangeIndex: 7050 entries, 0 to 7049\n",
      "Data columns (total 16 columns):\n",
      " #   Column            Non-Null Count  Dtype  \n",
      "---  ------            --------------  -----  \n",
      " 0   status_id         7050 non-null   object \n",
      " 1   status_type       7050 non-null   object \n",
      " 2   status_published  7050 non-null   object \n",
      " 3   num_reactions     7050 non-null   int64  \n",
      " 4   num_comments      7050 non-null   int64  \n",
      " 5   num_shares        7050 non-null   int64  \n",
      " 6   num_likes         7050 non-null   int64  \n",
      " 7   num_loves         7050 non-null   int64  \n",
      " 8   num_wows          7050 non-null   int64  \n",
      " 9   num_hahas         7050 non-null   int64  \n",
      " 10  num_sads          7050 non-null   int64  \n",
      " 11  num_angrys        7050 non-null   int64  \n",
      " 12  Column1           0 non-null      float64\n",
      " 13  Column2           0 non-null      float64\n",
      " 14  Column3           0 non-null      float64\n",
      " 15  Column4           0 non-null      float64\n",
      "dtypes: float64(4), int64(9), object(3)\n",
      "memory usage: 881.4+ KB\n",
      "None\n"
     ]
    }
   ],
   "source": [
    "# Facebook Live Selling Data\n",
    "\n",
    "data = pd.read_csv('data.csv')\n",
    "data.head()\n",
    "print(data.info())"
   ]
  },
  {
   "cell_type": "markdown",
   "metadata": {},
   "source": [
    "## Data Analysis "
   ]
  },
  {
   "cell_type": "markdown",
   "metadata": {},
   "source": [
    "### Missing Data (see Assignement 2)"
   ]
  },
  {
   "cell_type": "code",
   "execution_count": null,
   "metadata": {
    "colab": {
     "base_uri": "https://localhost:8080/"
    },
    "executionInfo": {
     "elapsed": 34,
     "status": "ok",
     "timestamp": 1679940692118,
     "user": {
      "displayName": "Yujia Zhang",
      "userId": "18184944040601022938"
     },
     "user_tz": 360
    },
    "id": "N99KjkvUHJYw",
    "outputId": "17309240-9082-4692-9ec2-18ddf052d2d3"
   },
   "outputs": [],
   "source": []
  },
  {
   "cell_type": "markdown",
   "metadata": {},
   "source": [
    "### Categorical Data (see Assignement 2)"
   ]
  },
  {
   "cell_type": "code",
   "execution_count": null,
   "metadata": {
    "colab": {
     "base_uri": "https://localhost:8080/",
     "height": 344
    },
    "executionInfo": {
     "elapsed": 224,
     "status": "ok",
     "timestamp": 1679940692314,
     "user": {
      "displayName": "Yujia Zhang",
      "userId": "18184944040601022938"
     },
     "user_tz": 360
    },
    "id": "WJ-fbqQlHVSz",
    "outputId": "b59deae2-d61a-4bfe-878c-8ab6a5cac24f"
   },
   "outputs": [],
   "source": []
  },
  {
   "cell_type": "markdown",
   "metadata": {
    "executionInfo": {
     "elapsed": 26,
     "status": "ok",
     "timestamp": 1679940692316,
     "user": {
      "displayName": "Yujia Zhang",
      "userId": "18184944040601022938"
     },
     "user_tz": 360
    },
    "id": "5J2DtgOuLWkJ"
   },
   "source": [
    "### Statistical Summary"
   ]
  },
  {
   "cell_type": "code",
   "execution_count": null,
   "metadata": {
    "colab": {
     "base_uri": "https://localhost:8080/"
    },
    "executionInfo": {
     "elapsed": 34,
     "status": "ok",
     "timestamp": 1679940692324,
     "user": {
      "displayName": "Yujia Zhang",
      "userId": "18184944040601022938"
     },
     "user_tz": 360
    },
    "id": "KdOilGEMMcae",
    "outputId": "1a4e0c57-de11-471e-a75e-2646106e318d"
   },
   "outputs": [],
   "source": []
  },
  {
   "cell_type": "markdown",
   "metadata": {},
   "source": [
    "## Scaling/Normalization"
   ]
  },
  {
   "cell_type": "code",
   "execution_count": null,
   "metadata": {
    "executionInfo": {
     "elapsed": 33,
     "status": "ok",
     "timestamp": 1679940692325,
     "user": {
      "displayName": "Yujia Zhang",
      "userId": "18184944040601022938"
     },
     "user_tz": 360
    },
    "id": "p7z8eaHXMNOW"
   },
   "outputs": [],
   "source": []
  },
  {
   "cell_type": "markdown",
   "metadata": {
    "id": "UzCdDI-nEw3l"
   },
   "source": [
    "# K-means clustering"
   ]
  },
  {
   "cell_type": "markdown",
   "metadata": {
    "id": "BwErM6pAFhZg"
   },
   "source": [
    "\n",
    "\n",
    "1.   what is K-means clustering?\n",
    "2.   explain the procedure of k-means clustering\n",
    "\n"
   ]
  },
  {
   "cell_type": "code",
   "execution_count": null,
   "metadata": {
    "executionInfo": {
     "elapsed": 29,
     "status": "ok",
     "timestamp": 1679940692326,
     "user": {
      "displayName": "Yujia Zhang",
      "userId": "18184944040601022938"
     },
     "user_tz": 360
    },
    "id": "oPYqqrD-LCUf"
   },
   "outputs": [],
   "source": [
    "# procedure for plotting clusters\n",
    "\n",
    "def plot_clusters(data, clusters, centroids, title):\n",
    "  pl.gcf().clear()\n",
    "  \n",
    "  # Plotting Data Points\n",
    "  if clusters is None:\n",
    "    pl.scatter(data[:,0], data[:,1], s=10, c='steelblue')\n",
    "    pl.scatter(centroids[:,0], centroids[:,1], marker='*', c='r', s=150)\n",
    "  else:\n",
    "    # Different color clusters\n",
    "    k = len(centroids)\n",
    "    for i in range(k):\n",
    "      colors = cm.rainbow(np.linspace(0, 1, 3))\n",
    "      cluster_data = data[clusters == i, :]\n",
    "      pl.scatter(cluster_data[:,0], cluster_data[:,1], s=10, color=colors[i])\n",
    "      pl.scatter(centroids[i,0], centroids[i,1], marker='*', color='k', s=200)\n",
    "      \n",
    "  pl.title(title)\n",
    "  display.display(pl.gcf())\n",
    "  display.clear_output(wait=True)"
   ]
  },
  {
   "cell_type": "markdown",
   "metadata": {},
   "source": [
    "## Clustering (scikit-learn can be used)"
   ]
  },
  {
   "cell_type": "code",
   "execution_count": null,
   "metadata": {
    "colab": {
     "base_uri": "https://localhost:8080/",
     "height": 281
    },
    "executionInfo": {
     "elapsed": 1683,
     "status": "ok",
     "timestamp": 1679940693982,
     "user": {
      "displayName": "Yujia Zhang",
      "userId": "18184944040601022938"
     },
     "user_tz": 360
    },
    "id": "EZMcD4-LIQ3Y",
    "outputId": "a5013f72-78d6-4faf-c751-d86151d25e13"
   },
   "outputs": [],
   "source": []
  },
  {
   "cell_type": "markdown",
   "metadata": {
    "id": "YUHaED96E56W"
   },
   "source": [
    "## Elbow Method (determining of k)"
   ]
  },
  {
   "cell_type": "markdown",
   "metadata": {
    "id": "R36TC-UKGC_P"
   },
   "source": [
    "\n",
    "\n",
    "1.   what is the eblbow method?\n",
    "\n"
   ]
  },
  {
   "cell_type": "markdown",
   "metadata": {
    "id": "dxpffTQYQXFM"
   },
   "source": [
    "\n",
    "*   Explain the results\n"
   ]
  },
  {
   "cell_type": "code",
   "execution_count": null,
   "metadata": {},
   "outputs": [],
   "source": []
  },
  {
   "cell_type": "markdown",
   "metadata": {},
   "source": [
    "# PCA using scikit-learn"
   ]
  },
  {
   "cell_type": "markdown",
   "metadata": {},
   "source": [
    "Using the example from Unsupervised Learning - part 2 (iris data), please perform PCA analysis.\n",
    "\n",
    "After that, cluster the data of reduced dimensionality and plot clusters."
   ]
  },
  {
   "cell_type": "code",
   "execution_count": null,
   "metadata": {},
   "outputs": [],
   "source": []
  }
 ],
 "metadata": {
  "colab": {
   "authorship_tag": "ABX9TyPi/ShwPH5dfjNAm6lsIg/c",
   "provenance": [],
   "toc_visible": true
  },
  "kernelspec": {
   "display_name": "Python 3 (ipykernel)",
   "language": "python",
   "name": "python3"
  },
  "language_info": {
   "codemirror_mode": {
    "name": "ipython",
    "version": 3
   },
   "file_extension": ".py",
   "mimetype": "text/x-python",
   "name": "python",
   "nbconvert_exporter": "python",
   "pygments_lexer": "ipython3",
   "version": "3.9.7"
  },
  "toc": {
   "base_numbering": 1,
   "nav_menu": {},
   "number_sections": true,
   "sideBar": true,
   "skip_h1_title": false,
   "title_cell": "Table of Contents",
   "title_sidebar": "Contents",
   "toc_cell": false,
   "toc_position": {},
   "toc_section_display": true,
   "toc_window_display": false
  }
 },
 "nbformat": 4,
 "nbformat_minor": 1
}
